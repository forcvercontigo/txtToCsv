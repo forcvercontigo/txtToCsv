{
 "cells": [
  {
   "cell_type": "code",
   "execution_count": 73,
   "metadata": {},
   "outputs": [],
   "source": [
    "from pydub import AudioSegment\n",
    "from pydub.silence import split_on_silence\n",
    "import sys\n",
    "import os\n",
    "import time"
   ]
  },
  {
   "cell_type": "code",
   "execution_count": 78,
   "metadata": {},
   "outputs": [],
   "source": [
    "def main():\n",
    "    \n",
    "    name = 'bbc.wav'\n",
    "    sound = AudioSegment.from_mp3(\"bbc.mp3\")\n",
    "    sound.export(name, format=\"wav\")\n",
    "    sound = AudioSegment.from_wav(name)\n",
    "    \n",
    "    \n",
    "    silence_thresh=-30     # 小于-70dBFS以下的为静默\n",
    "    min_silence_len=400    # 静默超过700毫秒则拆分\n",
    "    length_limit=500    # 拆分后每段不得超过5s\n",
    "    abandon_chunk_len=500   # 放弃小于500毫秒的段\n",
    "    joint_silence_len=100  # 段拼接时加入100毫秒间隔用于断句\n",
    "    split(sound,silence_thresh,min_silence_len,length_limit,abandon_chunk_len,joint_silence_len)"
   ]
  },
  {
   "cell_type": "code",
   "execution_count": 79,
   "metadata": {},
   "outputs": [],
   "source": [
    "def split(chunk,silence_thresh,min_silence_len,length_limit,abandon_chunk_len,joint_silence_len):\n",
    "    print('开始拆分(如果录音较长，请耐心等待)\\n',' *'*30)\n",
    "    name = 'bbc.wav'\n",
    "    chunks = split_on_silence(\\\n",
    "        chunk,min_silence_len=min_silence_len,silence_thresh=silence_thresh)\n",
    "    \n",
    "    print('拆分结束，返回段数:',len(chunks),'\\n',' *'*30)\n",
    "    # 放弃长度小于0.5秒的录音片段\n",
    "    for i in list(range(len(chunks)))[::-1]:\n",
    "        if len(chunks[i])<=abandon_chunk_len:\n",
    "            chunks.pop(i)\n",
    "    print('取有效分段：',len(chunks))\n",
    "\n",
    "    # 时间过短的相邻段合并，单段不超过1分钟\n",
    "    chunks = chunk_join_length_limit(chunks,joint_silence_len=joint_silence_len,length_limit=length_limit)\n",
    "    print('合并后段数：',len(chunks))\n",
    "\n",
    "    # 保存前处理一下路径文件名\n",
    "    if not os.path.exists('./chunks'):os.mkdir('./chunks')\n",
    "    namef,namec = os.path.splitext(name)\n",
    "    namec = namec[1:]\n",
    "\n",
    "    # 保存所有分段\n",
    "    total = len(chunks)\n",
    "    for i in range(total):\n",
    "        new = chunks[i]\n",
    "        save_name = '%s_%04d.%s'%(namef,i,namec)\n",
    "        new.export('./chunks/'+save_name, format=namec)\n",
    "        print('%04d'%i,len(new))\n",
    "    print('保存完毕')\n"
   ]
  },
  {
   "cell_type": "code",
   "execution_count": 80,
   "metadata": {},
   "outputs": [],
   "source": [
    "def chunk_join_length_limit(chunks,joint_silence_len,length_limit):\n",
    "    '''\n",
    "    将声音文件合并，并限定单句最长时间，返回结果为列表形式\n",
    "    Args:\n",
    "        chunk: 录音文件\n",
    "        joint_silence_len: 合并时文件间隔\n",
    "        length_limit：合并后单个文件长度不超过该值\n",
    "        adjust_chunks：合并后的列表\n",
    "    '''\n",
    "    # \n",
    "    silence = AudioSegment.silent(duration=joint_silence_len)\n",
    "    adjust_chunks=[]\n",
    "    temp = AudioSegment.empty()\n",
    "    for chunk in chunks:\n",
    "        print(adjust_chunks)\n",
    "        length = len(temp)+len(silence)+len(chunk) \n",
    "        \n",
    "        if length<5000:\n",
    "            temp+=silence+chunk\n",
    "        else: \n",
    "            adjust_chunks.append(temp)\n",
    "            temp=chunk\n",
    "    else:\n",
    "        adjust_chunks.append(temp)\n",
    "        \n",
    "    return adjust_chunks\n",
    "\n"
   ]
  },
  {
   "cell_type": "markdown",
   "metadata": {},
   "source": [
    "main(0"
   ]
  },
  {
   "cell_type": "code",
   "execution_count": 81,
   "metadata": {},
   "outputs": [
    {
     "name": "stdout",
     "output_type": "stream",
     "text": [
      "开始拆分(如果录音较长，请耐心等待)\n",
      "  * * * * * * * * * * * * * * * * * * * * * * * * * * * * * *\n"
     ]
    },
    {
     "name": "stderr",
     "output_type": "stream",
     "text": [
      "IOPub data rate exceeded.\n",
      "The notebook server will temporarily stop sending output\n",
      "to the client in order to avoid crashing it.\n",
      "To change this limit, set the config variable\n",
      "`--NotebookApp.iopub_data_rate_limit`.\n",
      "\n",
      "Current values:\n",
      "NotebookApp.iopub_data_rate_limit=1000000.0 (bytes/sec)\n",
      "NotebookApp.rate_limit_window=3.0 (secs)\n",
      "\n"
     ]
    },
    {
     "name": "stdout",
     "output_type": "stream",
     "text": [
      "0257 4897\n",
      "0258 2886\n",
      "0259 4580\n",
      "0260 3535\n",
      "0261 4605\n",
      "0262 3961\n",
      "0263 4407\n",
      "0264 4521\n",
      "0265 3836\n",
      "0266 2155\n",
      "0267 4130\n",
      "0268 5484\n",
      "0269 3845\n",
      "0270 2958\n",
      "0271 6075\n",
      "0272 3706\n",
      "0273 5755\n",
      "0274 2756\n",
      "0275 3258\n",
      "0276 5813\n",
      "0277 3628\n",
      "0278 4510\n",
      "0279 4499\n",
      "0280 2790\n",
      "0281 5054\n",
      "0282 4022\n",
      "0283 3889\n",
      "0284 6555\n",
      "0285 3232\n",
      "0286 3136\n",
      "0287 10747\n",
      "0288 4975\n",
      "0289 5250\n",
      "保存完毕\n"
     ]
    }
   ],
   "source": [
    "main()"
   ]
  },
  {
   "cell_type": "code",
   "execution_count": null,
   "metadata": {},
   "outputs": [],
   "source": []
  },
  {
   "cell_type": "code",
   "execution_count": null,
   "metadata": {},
   "outputs": [],
   "source": []
  }
 ],
 "metadata": {
  "kernelspec": {
   "display_name": "Python 3",
   "language": "python",
   "name": "python3"
  },
  "language_info": {
   "codemirror_mode": {
    "name": "ipython",
    "version": 3
   },
   "file_extension": ".py",
   "mimetype": "text/x-python",
   "name": "python",
   "nbconvert_exporter": "python",
   "pygments_lexer": "ipython3",
   "version": "3.6.8"
  }
 },
 "nbformat": 4,
 "nbformat_minor": 2
}
